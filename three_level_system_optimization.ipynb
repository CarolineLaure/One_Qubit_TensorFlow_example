{
  "nbformat": 4,
  "nbformat_minor": 0,
  "metadata": {
    "colab": {
      "name": "three_level_system_optimization",
      "provenance": [],
      "authorship_tag": "ABX9TyMl96rPJ7nzp/Y4d4cvq/Bf",
      "include_colab_link": true
    },
    "kernelspec": {
      "name": "python3",
      "display_name": "Python 3"
    }
  },
  "cells": [
    {
      "cell_type": "markdown",
      "metadata": {
        "id": "view-in-github",
        "colab_type": "text"
      },
      "source": [
        "<a href=\"https://colab.research.google.com/github/CarolineLaure/One_Qubit_TensorFlow_example/blob/master/three_level_system_optimization.ipynb\" target=\"_parent\"><img src=\"https://colab.research.google.com/assets/colab-badge.svg\" alt=\"Open In Colab\"/></a>"
      ]
    },
    {
      "cell_type": "markdown",
      "metadata": {
        "id": "V5j2seN3c8Mk",
        "colab_type": "text"
      },
      "source": [
        "Now let have the Hamiltonian of the form H = - $\\Delta_1$|e><e| - $\\delta_{total}$|r><r| - $\\Omega_1/2$(|g><e| + |e><g|)- $\\Omega_2/2$(|e><r| + |r><e|) where |g>, |e>, |r> are respectively the ground, intermediate and the Rydberg state. The goal is to optimize the overlap between the ground and the Rydberg state"
      ]
    },
    {
      "cell_type": "code",
      "metadata": {
        "id": "aqSvXhA4inRE",
        "colab_type": "code",
        "colab": {
          "base_uri": "https://localhost:8080/",
          "height": 263
        },
        "outputId": "8a59ec55-848b-4b69-d703-3d925dfec10b"
      },
      "source": [
        "pip install qutip"
      ],
      "execution_count": 1,
      "outputs": [
        {
          "output_type": "stream",
          "text": [
            "Collecting qutip\n",
            "\u001b[?25l  Downloading https://files.pythonhosted.org/packages/4f/36/90681586849b4b87b63e4b12353d615628887f0cfe02a218f6b128d3a701/qutip-4.5.0.tar.gz (3.5MB)\n",
            "\u001b[K     |████████████████████████████████| 3.5MB 2.8MB/s \n",
            "\u001b[?25hRequirement already satisfied: numpy>=1.12 in /usr/local/lib/python3.6/dist-packages (from qutip) (1.18.2)\n",
            "Requirement already satisfied: scipy>=1.0 in /usr/local/lib/python3.6/dist-packages (from qutip) (1.4.1)\n",
            "Requirement already satisfied: cython>=0.21 in /usr/local/lib/python3.6/dist-packages (from qutip) (0.29.16)\n",
            "Building wheels for collected packages: qutip\n",
            "  Building wheel for qutip (setup.py) ... \u001b[?25l\u001b[?25hdone\n",
            "  Created wheel for qutip: filename=qutip-4.5.0-cp36-cp36m-linux_x86_64.whl size=12885007 sha256=a8c62b0a3043e02ca1b6bfcea247996a93d7324f09dad48a992dbc5c869fc002\n",
            "  Stored in directory: /root/.cache/pip/wheels/c9/85/e8/3fbad9a0816141b4c5f1d73d8a880ed91265fea84192cbe37b\n",
            "Successfully built qutip\n",
            "Installing collected packages: qutip\n",
            "Successfully installed qutip-4.5.0\n"
          ],
          "name": "stdout"
        }
      ]
    },
    {
      "cell_type": "code",
      "metadata": {
        "id": "W3NK__0OiwA6",
        "colab_type": "code",
        "colab": {
          "base_uri": "https://localhost:8080/",
          "height": 34
        },
        "outputId": "ad91d83d-aad3-429d-8462-c1b79063b082"
      },
      "source": [
        "from __future__ import absolute_import, division, print_function, unicode_literals\n",
        "%tensorflow_version 2.x\n",
        "import tensorflow as tf\n",
        "import numpy as np\n",
        "import time\n",
        "import qutip as qt\n",
        "import matplotlib as plt \n",
        "print(tf.__version__) "
      ],
      "execution_count": 16,
      "outputs": [
        {
          "output_type": "stream",
          "text": [
            "2.2.0-rc2\n"
          ],
          "name": "stdout"
        }
      ]
    },
    {
      "cell_type": "code",
      "metadata": {
        "id": "A2IC3pyXu6pc",
        "colab_type": "code",
        "colab": {}
      },
      "source": [
        "start = time.time()\n",
        "\n",
        "# De leseleuc parameters\n",
        "\n",
        "delta_1 = 2 * np.pi * 560 * 10**6\n",
        "sigma_total = 2 * np.pi * 13 * 10**6\n",
        "Omega_1 = 2 * np.pi * 60 * 10**6\n",
        "Omega_2 = 2 * np.pi * 36 * 10**6"
      ],
      "execution_count": 0,
      "outputs": []
    },
    {
      "cell_type": "code",
      "metadata": {
        "id": "2JJ-cqzojxUY",
        "colab_type": "code",
        "colab": {
          "base_uri": "https://localhost:8080/",
          "height": 1000
        },
        "outputId": "2e9e398f-ac2d-42bd-c3b2-aecb07453ac7"
      },
      "source": [
        "class Propagator:\n",
        "    def __init__(self, no_of_steps, dim, delta_t, delta_1, sigma_total, Omega_1, Omega_2):\n",
        "\n",
        "        # Define my Hamiltonian\n",
        "\n",
        "        self.delta_1 = delta_1\n",
        "        self.sigma_total = sigma_total\n",
        "        self.Omega_1 = Omega_1\n",
        "        self.Omega_2 = Omega_2\n",
        "        self.delta_t = delta_t\n",
        "        \n",
        "        g, e, r = qt.qutrit_basis()\n",
        "\n",
        "        Hamiltonian = - self.delta_1 * e * e.dag() - self.sigma_total * r * r.dag() - self.Omega_1/2 * (g * e.dag() + e * g.dag()) \n",
        "        - self.Omega_2/2 * (e * r.dag() + r * e.dag())\n",
        "\n",
        "\n",
        "        self.delta_t=delta_t\n",
        "        self.dim=3\n",
        "        self.initial_state= tf.constant(g, dtype=tf.complex128)\n",
        "        self.final_state= tf.constant(r, dtype=tf.complex128)\n",
        "        \n",
        "\n",
        "        self.ctrl_amplitude = tf.Variable(tf.zeros([no_of_steps, 4], dtype=tf.float64), dtype=tf.float64)  # control amplitude $\\Omega$\n",
        "\n",
        "        self.generators =  tf.stack([\n",
        "                                     tf.constant(- delta_1 * e * e.dag(), dtype=tf.complex128),\n",
        "                                     tf.constant(- sigma_total * r * r.dag(), dtype=tf.complex128),\n",
        "                                     tf.constant(- Omega_1 * 0.5 * (g * e.dag() + e * g.dag()), dtype=tf.complex128),\n",
        "                                     tf.constant(- Omega_2 * 0.5 * (e * r.dag() + r * e.dag()), dtype=tf.complex128),\n",
        "                          \n",
        "                                     ])\n",
        "\n",
        "        self.contraction_array=[]\n",
        "        contraction_array_length = int(np.floor(np.log2(no_of_steps)))\n",
        "        temp_no_of_steps= no_of_steps\n",
        "\n",
        "        for i in range(contraction_array_length):\n",
        "          self.contraction_array.append(bool(np.mod(temp_no_of_steps, 2))) \n",
        "          temp_no_of_steps = np.floor(temp_no_of_steps/2)\n",
        "\n",
        "    def exponential(self):\n",
        "          regularize_amplitudes = 1/np.sqrt(2)*tf.math.tanh(self.ctrl_amplitude)\n",
        "          exponent = -1j*self.delta_t*(tf.linalg.tensordot(tf.cast(regularize_amplitudes, dtype=tf.complex128), self.generators, 1))\n",
        "          return tf.linalg.expm(exponent)\n",
        "\n",
        "    def propagate(self):\n",
        "          step_exps=self.exponential()\n",
        "          for is_odd in self.contraction_array:\n",
        "            if is_odd:\n",
        "              odd_exp=step_exps[-1, :, :]\n",
        "              step_exps = tf.linalg.matmul(step_exps[1::2, :, :], step_exps[0:-1:2, :, :])\n",
        "              step_exps = tf.concat([step_exps[0:-1, :, :], [tf.linalg.matmul(odd_exp, step_exps[-1, :, :])]], 0)\n",
        "            else:\n",
        "              step_exps = tf.linalg.matmul(step_exps[1::2, :, :], step_exps[0::2, :, :])\n",
        "          return tf.squeeze(step_exps)\n",
        "\n",
        "    @tf.function\n",
        "    def infidelity(self):\n",
        "          propagator=self.propagate()\n",
        "          intermediate_state = tf.linalg.matvec(propagator, tf.transpose(self.initial_state))\n",
        "          overlap = tf.tensordot(tf.math.conj(intermediate_state), self.final_state, axes=1)\n",
        "          return 1-tf.math.real(tf.math.conj(overlap)*overlap)\n",
        "\n",
        "propagator = Propagator(2000, 3, 10**-9, delta_1, sigma_total, Omega_1, Omega_2)\n",
        "\n",
        "optimizer = tf.keras.optimizers.Adam(0.01)\n",
        "\n",
        "propagator.ctrl_amplitude.assign(\n",
        "    tf.random.uniform([2000, 4], -1, 1, dtype=tf.float64)\n",
        ")\n",
        "\n",
        "#propagator.infidelity()\n",
        "\n",
        "@tf.function  \n",
        "def optimization_step():\n",
        "  with tf.GradientTape() as tape:\n",
        "    infidelity = propagator.infidelity()\n",
        "  gradients = tape.gradient(infidelity, [propagator.ctrl_amplitude])\n",
        "  optimizer.apply_gradients(zip(gradients, [propagator.ctrl_amplitude]))\n",
        "  return infidelity\n",
        "\n",
        "\n",
        "steps = range(100)\n",
        "for step in steps:\n",
        "  current_infidelity = optimization_step()\n",
        "  print('step %2d: infidelity=%2.5f' % (step, current_infidelity))\n",
        "\n",
        "\n",
        "\n",
        "#final_pulse = propagator.ctrl_amplitude  \n",
        "        \n",
        "end = time.time()\n",
        "print('Run Time: %2.4f seconds' %(end-start))"
      ],
      "execution_count": 18,
      "outputs": [
        {
          "output_type": "stream",
          "text": [
            "step  0: infidelity=0.97051\n",
            "step  1: infidelity=0.52874\n",
            "step  2: infidelity=0.71680\n",
            "step  3: infidelity=0.95033\n",
            "step  4: infidelity=0.62262\n",
            "step  5: infidelity=0.86765\n",
            "step  6: infidelity=0.66892\n",
            "step  7: infidelity=0.83974\n",
            "step  8: infidelity=0.57054\n",
            "step  9: infidelity=0.84858\n",
            "step 10: infidelity=0.65567\n",
            "step 11: infidelity=0.49411\n",
            "step 12: infidelity=0.27467\n",
            "step 13: infidelity=0.05697\n",
            "step 14: infidelity=0.34197\n",
            "step 15: infidelity=0.03488\n",
            "step 16: infidelity=0.18007\n",
            "step 17: infidelity=0.02120\n",
            "step 18: infidelity=0.09219\n",
            "step 19: infidelity=0.12874\n",
            "step 20: infidelity=0.06215\n",
            "step 21: infidelity=0.18838\n",
            "step 22: infidelity=0.15427\n",
            "step 23: infidelity=0.08261\n",
            "step 24: infidelity=0.05017\n",
            "step 25: infidelity=0.03504\n",
            "step 26: infidelity=0.06988\n",
            "step 27: infidelity=0.06895\n",
            "step 28: infidelity=0.03818\n",
            "step 29: infidelity=0.04037\n",
            "step 30: infidelity=0.03850\n",
            "step 31: infidelity=0.03292\n",
            "step 32: infidelity=0.06038\n",
            "step 33: infidelity=0.01735\n",
            "step 34: infidelity=0.02235\n",
            "step 35: infidelity=0.03413\n",
            "step 36: infidelity=0.02071\n",
            "step 37: infidelity=0.04971\n",
            "step 38: infidelity=0.01239\n",
            "step 39: infidelity=0.01643\n",
            "step 40: infidelity=0.01476\n",
            "step 41: infidelity=0.02057\n",
            "step 42: infidelity=0.01585\n",
            "step 43: infidelity=0.02004\n",
            "step 44: infidelity=0.00167\n",
            "step 45: infidelity=0.01206\n",
            "step 46: infidelity=0.01146\n",
            "step 47: infidelity=0.00881\n",
            "step 48: infidelity=0.01038\n",
            "step 49: infidelity=0.00905\n",
            "step 50: infidelity=0.00223\n",
            "step 51: infidelity=0.00464\n",
            "step 52: infidelity=0.00496\n",
            "step 53: infidelity=0.00623\n",
            "step 54: infidelity=0.00399\n",
            "step 55: infidelity=0.00567\n",
            "step 56: infidelity=0.00371\n",
            "step 57: infidelity=0.00145\n",
            "step 58: infidelity=0.00184\n",
            "step 59: infidelity=0.00312\n",
            "step 60: infidelity=0.00169\n",
            "step 61: infidelity=0.00268\n",
            "step 62: infidelity=0.00291\n",
            "step 63: infidelity=0.00476\n",
            "step 64: infidelity=0.00367\n",
            "step 65: infidelity=0.00420\n",
            "step 66: infidelity=0.00511\n",
            "step 67: infidelity=0.00649\n",
            "step 68: infidelity=0.00709\n",
            "step 69: infidelity=0.00886\n",
            "step 70: infidelity=0.01095\n",
            "step 71: infidelity=0.01467\n",
            "step 72: infidelity=0.01582\n",
            "step 73: infidelity=0.01562\n",
            "step 74: infidelity=0.01122\n",
            "step 75: infidelity=0.00612\n",
            "step 76: infidelity=0.00126\n",
            "step 77: infidelity=0.00036\n",
            "step 78: infidelity=0.00262\n",
            "step 79: infidelity=0.00431\n",
            "step 80: infidelity=0.00387\n",
            "step 81: infidelity=0.00273\n",
            "step 82: infidelity=0.00514\n",
            "step 83: infidelity=0.00968\n",
            "step 84: infidelity=0.01601\n",
            "step 85: infidelity=0.02648\n",
            "step 86: infidelity=0.04588\n",
            "step 87: infidelity=0.05911\n",
            "step 88: infidelity=0.05323\n",
            "step 89: infidelity=0.01913\n",
            "step 90: infidelity=0.00014\n",
            "step 91: infidelity=0.01357\n",
            "step 92: infidelity=0.02235\n",
            "step 93: infidelity=0.00683\n",
            "step 94: infidelity=0.00466\n",
            "step 95: infidelity=0.01710\n",
            "step 96: infidelity=0.01666\n",
            "step 97: infidelity=0.01231\n",
            "step 98: infidelity=0.01902\n",
            "step 99: infidelity=0.03377\n",
            "Run Time: 10.9862 seconds\n"
          ],
          "name": "stdout"
        }
      ]
    },
    {
      "cell_type": "code",
      "metadata": {
        "id": "kIwkEKmckAa3",
        "colab_type": "code",
        "colab": {}
      },
      "source": [
        ""
      ],
      "execution_count": 0,
      "outputs": []
    }
  ]
}