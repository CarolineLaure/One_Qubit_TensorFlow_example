{
  "nbformat": 4,
  "nbformat_minor": 0,
  "metadata": {
    "colab": {
      "name": "three_level_system_optimization",
      "provenance": [],
      "authorship_tag": "ABX9TyNTGa/5ID80w1KlbCw5i4+U",
      "include_colab_link": true
    },
    "kernelspec": {
      "name": "python3",
      "display_name": "Python 3"
    }
  },
  "cells": [
    {
      "cell_type": "markdown",
      "metadata": {
        "id": "view-in-github",
        "colab_type": "text"
      },
      "source": [
        "<a href=\"https://colab.research.google.com/github/CarolineLaure/One_Qubit_TensorFlow_example/blob/master/three_level_system_optimization.ipynb\" target=\"_parent\"><img src=\"https://colab.research.google.com/assets/colab-badge.svg\" alt=\"Open In Colab\"/></a>"
      ]
    },
    {
      "cell_type": "markdown",
      "metadata": {
        "id": "V5j2seN3c8Mk",
        "colab_type": "text"
      },
      "source": [
        "Now let have the Hamiltonian of the form H = - $\\Delta_1$|e><e| - $\\delta_{total}$|r><r| - $\\Omega_1/2$(|g><e| + |e><g|)- $\\Omega_2/2$(|e><r| + |r><e|) where |g>, |e>, |r> are respectively the ground, intermediate and the Rydberg state. The goal is to optimize the overlap between the ground and the Rydberg state"
      ]
    },
    {
      "cell_type": "code",
      "metadata": {
        "id": "aqSvXhA4inRE",
        "colab_type": "code",
        "outputId": "22a78b82-14ac-481a-9acc-03573d0c9fab",
        "colab": {
          "base_uri": "https://localhost:8080/",
          "height": 243
        }
      },
      "source": [
        "pip install qutip"
      ],
      "execution_count": 2,
      "outputs": [
        {
          "output_type": "stream",
          "text": [
            "Collecting qutip\n",
            "\u001b[?25l  Downloading https://files.pythonhosted.org/packages/3e/16/155cd9e3efa713a42d929573606cc259d1d975861403270106b4fb9de151/qutip-4.5.1.tar.gz (4.9MB)\n",
            "\u001b[K     |████████████████████████████████| 4.9MB 2.7MB/s \n",
            "\u001b[?25hRequirement already satisfied: numpy>=1.12 in /usr/local/lib/python3.6/dist-packages (from qutip) (1.18.5)\n",
            "Requirement already satisfied: scipy>=1.0 in /usr/local/lib/python3.6/dist-packages (from qutip) (1.4.1)\n",
            "Requirement already satisfied: cython>=0.21 in /usr/local/lib/python3.6/dist-packages (from qutip) (0.29.19)\n",
            "Building wheels for collected packages: qutip\n",
            "  Building wheel for qutip (setup.py) ... \u001b[?25l\u001b[?25hdone\n",
            "  Created wheel for qutip: filename=qutip-4.5.1-cp36-cp36m-linux_x86_64.whl size=14080966 sha256=16563532e21711844dda64a773929bbb1c5ef729e72067a8042edb969176012b\n",
            "  Stored in directory: /root/.cache/pip/wheels/8e/50/3d/29fb07fa1c0fbca787cff4376446b88a58bf628e324cee6c95\n",
            "Successfully built qutip\n",
            "Installing collected packages: qutip\n",
            "Successfully installed qutip-4.5.1\n"
          ],
          "name": "stdout"
        }
      ]
    },
    {
      "cell_type": "code",
      "metadata": {
        "id": "W3NK__0OiwA6",
        "colab_type": "code",
        "outputId": "c92e9646-d75a-4409-e488-19ffef049eda",
        "colab": {
          "base_uri": "https://localhost:8080/",
          "height": 34
        }
      },
      "source": [
        "from __future__ import absolute_import, division, print_function, unicode_literals\n",
        "%tensorflow_version 2.x\n",
        "import tensorflow as tf\n",
        "import numpy as np\n",
        "import time\n",
        "import qutip as qt\n",
        "import matplotlib as plt \n",
        "print(tf.__version__) "
      ],
      "execution_count": 3,
      "outputs": [
        {
          "output_type": "stream",
          "text": [
            "2.2.0\n"
          ],
          "name": "stdout"
        }
      ]
    },
    {
      "cell_type": "code",
      "metadata": {
        "id": "A2IC3pyXu6pc",
        "colab_type": "code",
        "colab": {}
      },
      "source": [
        "start = time.time()\n",
        "\n",
        "# De leseleuc parameters\n",
        "\n",
        "delta_1 = 2 * np.pi * 560 * 10**6\n",
        "sigma_total = 2 * np.pi * 13 * 10**6\n",
        "Omega_1 = 2 * np.pi * 60 * 10**6\n",
        "Omega_2 = 2 * np.pi * 36 * 10**6"
      ],
      "execution_count": 0,
      "outputs": []
    },
    {
      "cell_type": "code",
      "metadata": {
        "id": "2JJ-cqzojxUY",
        "colab_type": "code",
        "outputId": "da86dd40-fc20-4c5e-a741-7d0523309c31",
        "colab": {
          "base_uri": "https://localhost:8080/",
          "height": 1000
        }
      },
      "source": [
        "class Propagator:\n",
        "    def __init__(self, no_of_steps, dim, delta_t, delta_1, sigma_total, Omega_1, Omega_2):\n",
        "\n",
        "        # Define my Hamiltonian\n",
        "\n",
        "        self.delta_1 = delta_1\n",
        "        self.sigma_total = sigma_total\n",
        "        self.Omega_1 = Omega_1\n",
        "        self.Omega_2 = Omega_2\n",
        "        self.delta_t = delta_t\n",
        "        \n",
        "        g, e, r = qt.qutrit_basis()\n",
        "\n",
        "        Hamiltonian = - self.delta_1 * e * e.dag() - self.sigma_total * r * r.dag() - self.Omega_1/2 * (g * e.dag() + e * g.dag()) \n",
        "        - self.Omega_2/2 * (e * r.dag() + r * e.dag())\n",
        "\n",
        "\n",
        "        self.delta_t=delta_t\n",
        "        self.dim=3\n",
        "        self.initial_state= tf.constant(g, dtype=tf.complex128)\n",
        "        self.final_state= tf.constant(r, dtype=tf.complex128)\n",
        "        \n",
        "\n",
        "        self.ctrl_amplitude = tf.Variable(tf.zeros([no_of_steps, 4], dtype=tf.float64), dtype=tf.float64)  # control amplitude $\\Omega$\n",
        "\n",
        "        self.generators =  tf.stack([\n",
        "                                     tf.constant(- delta_1 * e * e.dag(), dtype=tf.complex128),\n",
        "                                     tf.constant(- sigma_total * r * r.dag(), dtype=tf.complex128),\n",
        "                                     tf.constant(- Omega_1 * 0.5 * (g * e.dag() + e * g.dag()), dtype=tf.complex128),\n",
        "                                     tf.constant(- Omega_2 * 0.5 * (e * r.dag() + r * e.dag()), dtype=tf.complex128),\n",
        "                          \n",
        "                                     ])\n",
        "\n",
        "        self.contraction_array=[]\n",
        "        contraction_array_length = int(np.floor(np.log2(no_of_steps)))\n",
        "        temp_no_of_steps= no_of_steps\n",
        "\n",
        "        for i in range(contraction_array_length):\n",
        "          self.contraction_array.append(bool(np.mod(temp_no_of_steps, 2))) \n",
        "          temp_no_of_steps = np.floor(temp_no_of_steps/2)\n",
        "\n",
        "    def exponential(self):\n",
        "          regularize_amplitudes = 1/np.sqrt(2)*tf.math.tanh(self.ctrl_amplitude)\n",
        "          exponent = -1j*self.delta_t*(tf.linalg.tensordot(tf.cast(regularize_amplitudes, dtype=tf.complex128), self.generators, 1))\n",
        "          return tf.linalg.expm(exponent)\n",
        "\n",
        "    def propagate(self):\n",
        "          step_exps=self.exponential()\n",
        "          for is_odd in self.contraction_array:\n",
        "            if is_odd:\n",
        "              odd_exp=step_exps[-1, :, :]\n",
        "              step_exps = tf.linalg.matmul(step_exps[1::2, :, :], step_exps[0:-1:2, :, :])\n",
        "              step_exps = tf.concat([step_exps[0:-1, :, :], [tf.linalg.matmul(odd_exp, step_exps[-1, :, :])]], 0)\n",
        "            else:\n",
        "              step_exps = tf.linalg.matmul(step_exps[1::2, :, :], step_exps[0::2, :, :])\n",
        "          return tf.squeeze(step_exps)\n",
        "\n",
        "    @tf.function\n",
        "    def infidelity(self):\n",
        "          propagator=self.propagate()\n",
        "          intermediate_state = tf.linalg.matvec(propagator, tf.transpose(self.initial_state))\n",
        "          overlap = tf.tensordot(tf.math.conj(intermediate_state), self.final_state, axes=1)\n",
        "          return 1-tf.math.real(tf.math.conj(overlap)*overlap)\n",
        "\n",
        "propagator = Propagator(2000, 3, 10**-9, delta_1, sigma_total, Omega_1, Omega_2)\n",
        "\n",
        "optimizer = tf.keras.optimizers.Adam(0.01)\n",
        "\n",
        "propagator.ctrl_amplitude.assign(\n",
        "    tf.random.uniform([2000, 4], -1, 1, dtype=tf.float64)\n",
        ")\n",
        "\n",
        "#propagator.infidelity()\n",
        "\n",
        "@tf.function  \n",
        "def optimization_step():\n",
        "  with tf.GradientTape() as tape:\n",
        "    infidelity = propagator.infidelity()\n",
        "  gradients = tape.gradient(infidelity, [propagator.ctrl_amplitude])\n",
        "  optimizer.apply_gradients(zip(gradients, [propagator.ctrl_amplitude]))\n",
        "  return infidelity\n",
        "\n",
        "overlap1 = []\n",
        "steps = range(100)\n",
        "for step in steps:\n",
        "  current_infidelity = optimization_step()\n",
        "  #print('step %2d: infidelity=%2.5f' % (step, current_infidelity))\n",
        "  overlap1.append(current_infidelity[0][0])\n",
        "tf.print(overlap1) \n",
        "\n",
        "#final_pulse = propagator.ctrl_amplitude  \n",
        "       \n",
        "end = time.time()\n",
        "print('Run Time: %2.4f seconds' %(end-start))\n",
        "\n",
        "np.savetxt(\"Overlap_infidelity.txt\", overlap1)\n",
        "# #downloads to local machine: from google.colab import files files.download('Overlap_infidelity.txt')\n",
        "from google.colab import files\n",
        "files.download('Overlap_infidelity.txt')\n"
      ],
      "execution_count": 23,
      "outputs": [
        {
          "output_type": "stream",
          "text": [
            "[0.0704378899185748,\n",
            " 0.25100389599552608,\n",
            " 0.59853746686066756,\n",
            " 0.88673330306271281,\n",
            " 0.47645467514842044,\n",
            " 0.91572976089305824,\n",
            " 0.76748905840492054,\n",
            " 0.7843665442179677,\n",
            " 0.35103148966483166,\n",
            " 0.42196008378557703,\n",
            " 0.74857695321943929,\n",
            " 0.86965949298154954,\n",
            " 0.9328081673771349,\n",
            " 0.98447355424328542,\n",
            " 0.93456960201987549,\n",
            " 0.81946494502635869,\n",
            " 0.61972798138002472,\n",
            " 0.877709420994359,\n",
            " 0.9640567659882594,\n",
            " 0.73415287797502793,\n",
            " 0.77209162243913532,\n",
            " 0.44626619890157504,\n",
            " 0.79812276539522276,\n",
            " 0.2512476288819514,\n",
            " 0.82902385298514869,\n",
            " 0.76068645434420512,\n",
            " 0.34412746537146588,\n",
            " 0.55205601335082866,\n",
            " 0.50613681299818081,\n",
            " 0.50027540414992722,\n",
            " 0.3040337817640959,\n",
            " 0.23421908402322911,\n",
            " 0.38372156565465709,\n",
            " 0.086323131666872222,\n",
            " 0.22839819376319348,\n",
            " 0.20923888971584015,\n",
            " 0.11216185211212581,\n",
            " 0.05043874556706518,\n",
            " 0.1486761452691896,\n",
            " 0.031705017822784454,\n",
            " 0.10439057468592616,\n",
            " 0.056446825346992968,\n",
            " 0.039933094952177894,\n",
            " 0.073622675214633171,\n",
            " 0.018502828582300124,\n",
            " 0.057271787860945889,\n",
            " 0.029738458069494156,\n",
            " 0.028637585112055275,\n",
            " 0.039727158236776638,\n",
            " 0.019322461437788041,\n",
            " 0.02228243929281315,\n",
            " 0.026191807265274814,\n",
            " 0.017638216539578533,\n",
            " 0.012127880557673998,\n",
            " 0.021231668476445198,\n",
            " 0.011954571477465481,\n",
            " 0.0081217696029398656,\n",
            " 0.017877648808408364,\n",
            " 0.0044747983434858529,\n",
            " 0.011780954256260134,\n",
            " 0.0061034498385390545,\n",
            " 0.010442894799499891,\n",
            " 0.0019742193370858585,\n",
            " 0.0095784150110358457,\n",
            " 0.0038173451229944755,\n",
            " 0.0040051602972095424,\n",
            " 0.0056593879945888714,\n",
            " 0.0032682956767382532,\n",
            " 0.0024208117269693963,\n",
            " 0.005005847813388753,\n",
            " 0.0012328025224849215,\n",
            " 0.0031994158994396171,\n",
            " 0.0018291720725638339,\n",
            " 0.0029718947413813757,\n",
            " 0.0006283493447164501,\n",
            " 0.002546864951188943,\n",
            " 0.0011937932878748336,\n",
            " 0.0009680665654057119,\n",
            " 0.0018535459198937287,\n",
            " 0.0009633672558778672,\n",
            " 0.00062704922807210739,\n",
            " 0.0014543599696881238,\n",
            " 0.000261461337896729,\n",
            " 0.0010042055165949693,\n",
            " 0.00055678592655705739,\n",
            " 0.00087152273438784178,\n",
            " 0.00042751091734538615,\n",
            " 0.00081629844977626487,\n",
            " 0.00060014982379730242,\n",
            " 0.00044301873206686881,\n",
            " 0.00078103951884012091,\n",
            " 0.00057309772947189419,\n",
            " 0.000724230817156335,\n",
            " 0.0011827708837631734,\n",
            " 0.0015130776745839736,\n",
            " 0.0027466795688199097,\n",
            " 0.0051873278144547452,\n",
            " 0.010250797428251968,\n",
            " 0.02058197507576065,\n",
            " 0.039096745289730728]\n",
            "Run Time: 9186.4551 seconds\n"
          ],
          "name": "stdout"
        }
      ]
    },
    {
      "cell_type": "code",
      "metadata": {
        "id": "6eMeWISqbf5L",
        "colab_type": "code",
        "colab": {}
      },
      "source": [
        ""
      ],
      "execution_count": 0,
      "outputs": []
    }
  ]
}