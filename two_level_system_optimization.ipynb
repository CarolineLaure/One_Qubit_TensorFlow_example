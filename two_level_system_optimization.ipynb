{
  "nbformat": 4,
  "nbformat_minor": 0,
  "metadata": {
    "colab": {
      "name": "two_level_system_optimization",
      "provenance": [],
      "authorship_tag": "ABX9TyN4rfVfhJ0fzohoI1mDB5xJ",
      "include_colab_link": true
    },
    "kernelspec": {
      "name": "python3",
      "display_name": "Python 3"
    }
  },
  "cells": [
    {
      "cell_type": "markdown",
      "metadata": {
        "id": "view-in-github",
        "colab_type": "text"
      },
      "source": [
        "<a href=\"https://colab.research.google.com/github/CarolineLaure/One_Qubit_TensorFlow_example/blob/master/two_level_system_optimization.ipynb\" target=\"_parent\"><img src=\"https://colab.research.google.com/assets/colab-badge.svg\" alt=\"Open In Colab\"/></a>"
      ]
    },
    {
      "cell_type": "markdown",
      "metadata": {
        "id": "7WGtSonaX91l",
        "colab_type": "text"
      },
      "source": [
        "Optimization of two-level system. Let's have the Hamiltonian of the form H=-($\\Omega$/2)$\\sigma x$. The goald is to find a set of control parameters $\\Omega$ which will maximize our fidelity\n"
      ]
    },
    {
      "cell_type": "code",
      "metadata": {
        "id": "STfIsbHEYo34",
        "colab_type": "code",
        "outputId": "23117a1d-e895-4897-9133-b1c597d8e74d",
        "colab": {
          "base_uri": "https://localhost:8080/",
          "height": 34
        }
      },
      "source": [
        "from __future__ import absolute_import, division, print_function, unicode_literals\n",
        "%tensorflow_version 2.x\n",
        "import tensorflow as tf\n",
        "import numpy as np\n",
        "import time\n",
        "print(tf.__version__) "
      ],
      "execution_count": 2,
      "outputs": [
        {
          "output_type": "stream",
          "text": [
            "2.2.0-rc2\n"
          ],
          "name": "stdout"
        }
      ]
    },
    {
      "cell_type": "code",
      "metadata": {
        "id": "xmpMlGOF6ZNk",
        "colab_type": "code",
        "colab": {}
      },
      "source": [
        "Omega_1 = 2 * np.pi * 60 * 10**6\n",
        "\n",
        "start = time.time()"
      ],
      "execution_count": 0,
      "outputs": []
    },
    {
      "cell_type": "code",
      "metadata": {
        "id": "2YYSB232ZXAP",
        "colab_type": "code",
        "outputId": "ba2e8b6a-f121-4181-9050-f298b7c2e873",
        "colab": {
          "base_uri": "https://localhost:8080/",
          "height": 1000
        }
      },
      "source": [
        "class Propagator:\n",
        "    def __init__(self, no_of_steps, dim, delta_t):\n",
        "        self.delta_t=delta_t\n",
        "        self.dim=2\n",
        "        self.initial_state= tf.constant([1, 0], dtype=tf.complex128)\n",
        "        self.final_state= tf.constant([0, 1], dtype=tf.complex128)\n",
        "        self.sigma_x=tf.constant([[0, 1], [1, 0]], dtype=tf.complex128) # generation of $\\sigma x$\n",
        "\n",
        "        self.ctrl_amplitude = tf.Variable(tf.zeros([no_of_steps, 1], dtype=tf.float64), dtype=tf.float64)  # control amplitude $\\Omega$\n",
        "\n",
        "        self.generators =  tf.stack([\n",
        "                                     tf.constant(Omega_1 * self.sigma_x, dtype=tf.complex128),\n",
        "                                     \n",
        "                                     ])\n",
        "\n",
        "        self.contraction_array=[]\n",
        "        contraction_array_length = int(np.floor(np.log2(no_of_steps)))\n",
        "        temp_no_of_steps= no_of_steps\n",
        "\n",
        "        for i in range(contraction_array_length):\n",
        "          self.contraction_array.append(bool(np.mod(temp_no_of_steps, 2))) \n",
        "          temp_no_of_steps = np.floor(temp_no_of_steps/2)\n",
        "\n",
        "    def exponential(self):\n",
        "          regularize_amplitudes = 1/np.sqrt(2)*tf.math.tanh(self.ctrl_amplitude)\n",
        "          exponent = -1j*self.delta_t*(0.5)*(tf.linalg.tensordot(tf.cast(regularize_amplitudes, dtype=tf.complex128), self.generators, 1))\n",
        "          return tf.linalg.expm(exponent)\n",
        "\n",
        "    def propagate(self):\n",
        "          step_exps=self.exponential()\n",
        "          for is_odd in self.contraction_array:\n",
        "            if is_odd:\n",
        "              odd_exp=step_exps[-1, :, :]\n",
        "              step_exps = tf.linalg.matmul(step_exps[1::2, :, :], step_exps[0:-1:2, :, :])\n",
        "              step_exps = tf.concat([step_exps[0:-1, :, :], [tf.linalg.matmul(odd_exp, step_exps[-1, :, :])]], 0)\n",
        "            else:\n",
        "              step_exps = tf.linalg.matmul(step_exps[1::2, :, :], step_exps[0::2, :, :])\n",
        "          return tf.squeeze(step_exps)\n",
        "\n",
        "    @tf.function\n",
        "    def infidelity(self):\n",
        "          propagator=self.propagate()\n",
        "          intermediate_state = tf.linalg.matvec(propagator, tf.transpose(self.initial_state))\n",
        "          overlap = tf.tensordot(tf.math.conj(intermediate_state), self.final_state, axes=1)\n",
        "          return 1-tf.math.real(tf.math.conj(overlap)*overlap)\n",
        "\n",
        "propagator = Propagator(5000, 2, 10**-9)\n",
        "\n",
        "optimizer = tf.keras.optimizers.Adam(0.01)\n",
        "\n",
        "propagator.ctrl_amplitude.assign(\n",
        "    tf.random.uniform([5000, 1], -1, 1, dtype=tf.float64)\n",
        ")\n",
        "\n",
        "#propagator.infidelity()\n",
        "\n",
        "@tf.function  \n",
        "def optimization_step():\n",
        "  with tf.GradientTape() as tape:\n",
        "    infidelity = propagator.infidelity()\n",
        "  gradients = tape.gradient(infidelity, [propagator.ctrl_amplitude])\n",
        "  optimizer.apply_gradients(zip(gradients, [propagator.ctrl_amplitude]))\n",
        "  return infidelity\n",
        "\n",
        "\n",
        "steps = range(100)\n",
        "for step in steps:\n",
        "  current_infidelity = optimization_step()\n",
        "  print('step %2d: infidelity=%2.5f' % (step, current_infidelity))\n",
        "\n",
        "\n",
        "\n",
        "#final_pulse = propagator.ctrl_amplitude  \n",
        "\n",
        "\n",
        "\n",
        "end = time.time()\n",
        "print('Run Time: %2.4f seconds' %(end-start))"
      ],
      "execution_count": 13,
      "outputs": [
        {
          "output_type": "stream",
          "text": [
            "step  0: infidelity=0.61627\n",
            "step  1: infidelity=0.73323\n",
            "step  2: infidelity=0.70946\n",
            "step  3: infidelity=0.57194\n",
            "step  4: infidelity=0.31769\n",
            "step  5: infidelity=0.54113\n",
            "step  6: infidelity=0.51266\n",
            "step  7: infidelity=0.05729\n",
            "step  8: infidelity=0.40291\n",
            "step  9: infidelity=0.02927\n",
            "step 10: infidelity=0.30441\n",
            "step 11: infidelity=0.19320\n",
            "step 12: infidelity=0.08519\n",
            "step 13: infidelity=0.24439\n",
            "step 14: infidelity=0.00222\n",
            "step 15: infidelity=0.18986\n",
            "step 16: infidelity=0.08468\n",
            "step 17: infidelity=0.06748\n",
            "step 18: infidelity=0.14265\n",
            "step 19: infidelity=0.00044\n",
            "step 20: infidelity=0.12460\n",
            "step 21: infidelity=0.02957\n",
            "step 22: infidelity=0.06181\n",
            "step 23: infidelity=0.07226\n",
            "step 24: infidelity=0.00962\n",
            "step 25: infidelity=0.08005\n",
            "step 26: infidelity=0.00194\n",
            "step 27: infidelity=0.05872\n",
            "step 28: infidelity=0.02019\n",
            "step 29: infidelity=0.02847\n",
            "step 30: infidelity=0.03616\n",
            "step 31: infidelity=0.00711\n",
            "step 32: infidelity=0.03982\n",
            "step 33: infidelity=0.00007\n",
            "step 34: infidelity=0.03398\n",
            "step 35: infidelity=0.00231\n",
            "step 36: infidelity=0.02434\n",
            "step 37: infidelity=0.00711\n",
            "step 38: infidelity=0.01517\n",
            "step 39: infidelity=0.01068\n",
            "step 40: infidelity=0.00842\n",
            "step 41: infidelity=0.01213\n",
            "step 42: infidelity=0.00426\n",
            "step 43: infidelity=0.01192\n",
            "step 44: infidelity=0.00203\n",
            "step 45: infidelity=0.01078\n",
            "step 46: infidelity=0.00096\n",
            "step 47: infidelity=0.00930\n",
            "step 48: infidelity=0.00051\n",
            "step 49: infidelity=0.00780\n",
            "step 50: infidelity=0.00034\n",
            "step 51: infidelity=0.00643\n",
            "step 52: infidelity=0.00033\n",
            "step 53: infidelity=0.00520\n",
            "step 54: infidelity=0.00040\n",
            "step 55: infidelity=0.00410\n",
            "step 56: infidelity=0.00057\n",
            "step 57: infidelity=0.00309\n",
            "step 58: infidelity=0.00081\n",
            "step 59: infidelity=0.00215\n",
            "step 60: infidelity=0.00110\n",
            "step 61: infidelity=0.00131\n",
            "step 62: infidelity=0.00137\n",
            "step 63: infidelity=0.00063\n",
            "step 64: infidelity=0.00154\n",
            "step 65: infidelity=0.00018\n",
            "step 66: infidelity=0.00153\n",
            "step 67: infidelity=0.00000\n",
            "step 68: infidelity=0.00128\n",
            "step 69: infidelity=0.00010\n",
            "step 70: infidelity=0.00085\n",
            "step 71: infidelity=0.00036\n",
            "step 72: infidelity=0.00038\n",
            "step 73: infidelity=0.00061\n",
            "step 74: infidelity=0.00007\n",
            "step 75: infidelity=0.00066\n",
            "step 76: infidelity=0.00001\n",
            "step 77: infidelity=0.00047\n",
            "step 78: infidelity=0.00017\n",
            "step 79: infidelity=0.00018\n",
            "step 80: infidelity=0.00034\n",
            "step 81: infidelity=0.00001\n",
            "step 82: infidelity=0.00033\n",
            "step 83: infidelity=0.00005\n",
            "step 84: infidelity=0.00016\n",
            "step 85: infidelity=0.00018\n",
            "step 86: infidelity=0.00001\n",
            "step 87: infidelity=0.00021\n",
            "step 88: infidelity=0.00003\n",
            "step 89: infidelity=0.00009\n",
            "step 90: infidelity=0.00012\n",
            "step 91: infidelity=0.00000\n",
            "step 92: infidelity=0.00012\n",
            "step 93: infidelity=0.00004\n",
            "step 94: infidelity=0.00003\n",
            "step 95: infidelity=0.00009\n",
            "step 96: infidelity=0.00000\n",
            "step 97: infidelity=0.00005\n",
            "step 98: infidelity=0.00005\n",
            "step 99: infidelity=0.00000\n",
            "Run Time: 37.2646 seconds\n"
          ],
          "name": "stdout"
        }
      ]
    },
    {
      "cell_type": "code",
      "metadata": {
        "id": "9NA-Aj7OaB9O",
        "colab_type": "code",
        "colab": {}
      },
      "source": [
        ""
      ],
      "execution_count": 0,
      "outputs": []
    }
  ]
}