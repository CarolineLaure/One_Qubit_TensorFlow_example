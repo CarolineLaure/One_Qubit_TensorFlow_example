{
  "nbformat": 4,
  "nbformat_minor": 0,
  "metadata": {
    "colab": {
      "name": "two_level_system_optimization",
      "provenance": [],
      "authorship_tag": "ABX9TyNHXX90qfx6WMxCcSLRtO5+",
      "include_colab_link": true
    },
    "kernelspec": {
      "name": "python3",
      "display_name": "Python 3"
    }
  },
  "cells": [
    {
      "cell_type": "markdown",
      "metadata": {
        "id": "view-in-github",
        "colab_type": "text"
      },
      "source": [
        "<a href=\"https://colab.research.google.com/github/CarolineLaure/One_Qubit_TensorFlow_example/blob/master/two_level_system_optimization.ipynb\" target=\"_parent\"><img src=\"https://colab.research.google.com/assets/colab-badge.svg\" alt=\"Open In Colab\"/></a>"
      ]
    },
    {
      "cell_type": "markdown",
      "metadata": {
        "id": "7WGtSonaX91l",
        "colab_type": "text"
      },
      "source": [
        "Optimization of two-level system. Let's have the Hamiltonian of the form H=-($\\Omega$/2)$\\sigma x$. The goald is to find a set of control parameters $\\Omega$ which will maximize our fidelity\n"
      ]
    },
    {
      "cell_type": "code",
      "metadata": {
        "id": "STfIsbHEYo34",
        "colab_type": "code",
        "outputId": "23117a1d-e895-4897-9133-b1c597d8e74d",
        "colab": {
          "base_uri": "https://localhost:8080/",
          "height": 34
        }
      },
      "source": [
        "from __future__ import absolute_import, division, print_function, unicode_literals\n",
        "%tensorflow_version 2.x\n",
        "import tensorflow as tf\n",
        "import numpy as np\n",
        "import time\n",
        "print(tf.__version__) "
      ],
      "execution_count": 2,
      "outputs": [
        {
          "output_type": "stream",
          "text": [
            "2.2.0-rc2\n"
          ],
          "name": "stdout"
        }
      ]
    },
    {
      "cell_type": "code",
      "metadata": {
        "id": "2YYSB232ZXAP",
        "colab_type": "code",
        "outputId": "8efa7482-ad9d-4311-b056-b14cdfa95007",
        "colab": {
          "base_uri": "https://localhost:8080/",
          "height": 1000
        }
      },
      "source": [
        "class Propagator:\n",
        "    def __init__(self, no_of_steps, dim, delta_t):\n",
        "        self.delta_t=delta_t\n",
        "        self.dim=2\n",
        "        self.initial_state= tf.constant([1, 0], dtype=tf.complex128)\n",
        "        self.final_state= tf.constant([0, 1], dtype=tf.complex128)\n",
        "        self.sigma_x=tf.constant([[0, 1], [1, 0]], dtype=tf.complex128) # generation of $\\sigma x$\n",
        "\n",
        "        self.ctrl_amplitude = tf.Variable(tf.zeros([no_of_steps, 1], dtype=tf.float64), dtype=tf.float64)  # control amplitude $\\Omega$\n",
        "\n",
        "        self.generators =  tf.stack([\n",
        "                                     tf.constant(self.sigma_x, dtype=tf.complex128),\n",
        "                                     \n",
        "                                     ])\n",
        "\n",
        "        self.contraction_array=[]\n",
        "        contraction_array_length = int(np.floor(np.log2(no_of_steps)))\n",
        "        temp_no_of_steps= no_of_steps\n",
        "\n",
        "        for i in range(contraction_array_length):\n",
        "          self.contraction_array.append(bool(np.mod(temp_no_of_steps, 2))) \n",
        "          temp_no_of_steps = np.floor(temp_no_of_steps/2)\n",
        "\n",
        "    def exponential(self):\n",
        "          regularize_amplitudes = 1/np.sqrt(2)*tf.math.tanh(self.ctrl_amplitude)\n",
        "          exponent = -1j*10**6*np.pi**self.delta_t*(0.5)*(tf.linalg.tensordot(tf.cast(regularize_amplitudes, dtype=tf.complex128), self.generators, 1))\n",
        "          return tf.linalg.expm(exponent)\n",
        "\n",
        "    def propagate(self):\n",
        "          step_exps=self.exponential()\n",
        "          for is_odd in self.contraction_array:\n",
        "            if is_odd:\n",
        "              odd_exp=step_exps[-1, :, :]\n",
        "              step_exps = tf.linalg.matmul(step_exps[1::2, :, :], step_exps[0:-1:2, :, :])\n",
        "              step_exps = tf.concat([step_exps[0:-1, :, :], [tf.linalg.matmul(odd_exp, step_exps[-1, :, :])]], 0)\n",
        "            else:\n",
        "              step_exps = tf.linalg.matmul(step_exps[1::2, :, :], step_exps[0::2, :, :])\n",
        "          return tf.squeeze(step_exps)\n",
        "\n",
        "    @tf.function\n",
        "    def infidelity(self):\n",
        "          propagator=self.propagate()\n",
        "          intermediate_state = tf.linalg.matvec(propagator, tf.transpose(self.initial_state))\n",
        "          overlap = tf.tensordot(tf.math.conj(intermediate_state), self.final_state, axes=1)\n",
        "          return 1-tf.math.real(tf.math.conj(overlap)*overlap)\n",
        "\n",
        "propagator = Propagator(2000, 2, 10**-9)\n",
        "\n",
        "optimizer = tf.keras.optimizers.Adam(0.01)\n",
        "\n",
        "propagator.ctrl_amplitude.assign(\n",
        "    tf.random.uniform([2000, 1], -1, 1, dtype=tf.float64)\n",
        ")\n",
        "\n",
        "#propagator.infidelity()\n",
        "\n",
        "@tf.function  \n",
        "def optimization_step():\n",
        "  with tf.GradientTape() as tape:\n",
        "    infidelity = propagator.infidelity()\n",
        "  gradients = tape.gradient(infidelity, [propagator.ctrl_amplitude])\n",
        "  optimizer.apply_gradients(zip(gradients, [propagator.ctrl_amplitude]))\n",
        "  return infidelity\n",
        "\n",
        "\n",
        "steps = range(100)\n",
        "for step in steps:\n",
        "  current_infidelity = optimization_step()\n",
        "  print('step %2d: infidelity=%2.5f' % (step, current_infidelity))\n",
        "\n",
        "\n",
        "\n",
        "#final_pulse = propagator.ctrl_amplitude  \n",
        "\n",
        "\n",
        "\n"
      ],
      "execution_count": 4,
      "outputs": [
        {
          "output_type": "stream",
          "text": [
            "step  0: infidelity=0.04290\n",
            "step  1: infidelity=0.02875\n",
            "step  2: infidelity=0.36627\n",
            "step  3: infidelity=0.11251\n",
            "step  4: infidelity=0.98457\n",
            "step  5: infidelity=0.94674\n",
            "step  6: infidelity=0.56014\n",
            "step  7: infidelity=0.50324\n",
            "step  8: infidelity=0.24080\n",
            "step  9: infidelity=0.66352\n",
            "step 10: infidelity=0.00705\n",
            "step 11: infidelity=0.88701\n",
            "step 12: infidelity=0.32081\n",
            "step 13: infidelity=0.48358\n",
            "step 14: infidelity=0.38991\n",
            "step 15: infidelity=0.40929\n",
            "step 16: infidelity=0.29284\n",
            "step 17: infidelity=0.36251\n",
            "step 18: infidelity=0.99512\n",
            "step 19: infidelity=0.06858\n",
            "step 20: infidelity=0.04623\n",
            "step 21: infidelity=0.71786\n",
            "step 22: infidelity=0.46807\n",
            "step 23: infidelity=0.99910\n",
            "step 24: infidelity=0.04343\n",
            "step 25: infidelity=0.14214\n",
            "step 26: infidelity=0.76980\n",
            "step 27: infidelity=0.01252\n",
            "step 28: infidelity=0.10775\n",
            "step 29: infidelity=0.99882\n",
            "step 30: infidelity=0.96753\n",
            "step 31: infidelity=0.13813\n",
            "step 32: infidelity=0.25492\n",
            "step 33: infidelity=0.22603\n",
            "step 34: infidelity=0.85895\n",
            "step 35: infidelity=0.77011\n",
            "step 36: infidelity=0.94513\n",
            "step 37: infidelity=0.49850\n",
            "step 38: infidelity=0.06870\n",
            "step 39: infidelity=0.16315\n",
            "step 40: infidelity=0.92913\n",
            "step 41: infidelity=0.63826\n",
            "step 42: infidelity=0.15819\n",
            "step 43: infidelity=0.11018\n",
            "step 44: infidelity=0.86618\n",
            "step 45: infidelity=0.98681\n",
            "step 46: infidelity=0.21197\n",
            "step 47: infidelity=0.00097\n",
            "step 48: infidelity=0.58918\n",
            "step 49: infidelity=0.84613\n",
            "step 50: infidelity=0.44524\n",
            "step 51: infidelity=0.17357\n",
            "step 52: infidelity=0.10974\n",
            "step 53: infidelity=0.02704\n",
            "step 54: infidelity=0.00002\n",
            "step 55: infidelity=0.63597\n",
            "step 56: infidelity=0.99507\n",
            "step 57: infidelity=0.45369\n",
            "step 58: infidelity=0.92711\n",
            "step 59: infidelity=0.01390\n",
            "step 60: infidelity=0.01500\n",
            "step 61: infidelity=0.01566\n",
            "step 62: infidelity=0.75219\n",
            "step 63: infidelity=0.64436\n",
            "step 64: infidelity=0.71781\n",
            "step 65: infidelity=0.30205\n",
            "step 66: infidelity=0.00110\n",
            "step 67: infidelity=0.98933\n",
            "step 68: infidelity=0.45335\n",
            "step 69: infidelity=0.72020\n",
            "step 70: infidelity=0.40075\n",
            "step 71: infidelity=0.78418\n",
            "step 72: infidelity=0.73516\n",
            "step 73: infidelity=0.53145\n",
            "step 74: infidelity=0.17003\n",
            "step 75: infidelity=0.03374\n",
            "step 76: infidelity=0.68409\n",
            "step 77: infidelity=0.05336\n",
            "step 78: infidelity=0.19341\n",
            "step 79: infidelity=0.69946\n",
            "step 80: infidelity=0.24797\n",
            "step 81: infidelity=0.72142\n",
            "step 82: infidelity=0.60622\n",
            "step 83: infidelity=0.09219\n",
            "step 84: infidelity=0.46449\n",
            "step 85: infidelity=0.29011\n",
            "step 86: infidelity=0.68166\n",
            "step 87: infidelity=0.23257\n",
            "step 88: infidelity=0.61570\n",
            "step 89: infidelity=0.62389\n",
            "step 90: infidelity=0.41496\n",
            "step 91: infidelity=0.98417\n",
            "step 92: infidelity=0.04220\n",
            "step 93: infidelity=0.37879\n",
            "step 94: infidelity=0.79416\n",
            "step 95: infidelity=0.94172\n",
            "step 96: infidelity=0.99847\n",
            "step 97: infidelity=0.80751\n",
            "step 98: infidelity=0.87487\n",
            "step 99: infidelity=0.25066\n"
          ],
          "name": "stdout"
        }
      ]
    },
    {
      "cell_type": "code",
      "metadata": {
        "id": "9NA-Aj7OaB9O",
        "colab_type": "code",
        "colab": {}
      },
      "source": [
        ""
      ],
      "execution_count": 0,
      "outputs": []
    }
  ]
}