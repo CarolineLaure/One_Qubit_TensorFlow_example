{
  "nbformat": 4,
  "nbformat_minor": 0,
  "metadata": {
    "colab": {
      "name": "two_level_system_optimization",
      "provenance": [],
      "authorship_tag": "ABX9TyMTnamnsjE+oB3eLuna5Z50",
      "include_colab_link": true
    },
    "kernelspec": {
      "name": "python3",
      "display_name": "Python 3"
    }
  },
  "cells": [
    {
      "cell_type": "markdown",
      "metadata": {
        "id": "view-in-github",
        "colab_type": "text"
      },
      "source": [
        "<a href=\"https://colab.research.google.com/github/CarolineLaure/One_Qubit_TensorFlow_example/blob/master/two_level_system_optimization.ipynb\" target=\"_parent\"><img src=\"https://colab.research.google.com/assets/colab-badge.svg\" alt=\"Open In Colab\"/></a>"
      ]
    },
    {
      "cell_type": "markdown",
      "metadata": {
        "id": "7WGtSonaX91l",
        "colab_type": "text"
      },
      "source": [
        "Optimization of two-level system. Let's have the Hamiltonian of the form H=-($\\Omega$/2)$\\sigma x$. The goald is to find a set of control parameters $\\Omega$ which will maximize our fidelity\n"
      ]
    },
    {
      "cell_type": "code",
      "metadata": {
        "id": "STfIsbHEYo34",
        "colab_type": "code",
        "outputId": "d95cb2c8-d4f9-459a-8ba9-377e20b85735",
        "colab": {
          "base_uri": "https://localhost:8080/",
          "height": 34
        }
      },
      "source": [
        "from __future__ import absolute_import, division, print_function, unicode_literals\n",
        "%tensorflow_version 2.x\n",
        "import tensorflow as tf\n",
        "import numpy as np\n",
        "import time\n",
        "print(tf.__version__) "
      ],
      "execution_count": 2,
      "outputs": [
        {
          "output_type": "stream",
          "text": [
            "2.2.0-rc2\n"
          ],
          "name": "stdout"
        }
      ]
    },
    {
      "cell_type": "code",
      "metadata": {
        "id": "2YYSB232ZXAP",
        "colab_type": "code",
        "outputId": "8f5a8f9a-e2bb-450d-8951-482580bdf5d5",
        "colab": {
          "base_uri": "https://localhost:8080/",
          "height": 1000
        }
      },
      "source": [
        "class Propagator:\n",
        "    def __init__(self, no_of_steps, dim, delta_t):\n",
        "        self.delta_t=delta_t\n",
        "        self.dim=2\n",
        "        self.initial_state= tf.constant([1, 0], dtype=tf.complex128)\n",
        "        self.final_state= tf.constant([0, 1], dtype=tf.complex128)\n",
        "        self.sigma_x=tf.constant([[0, 1], [1, 0]], dtype=tf.complex128) # generation of $\\sigma x$\n",
        "\n",
        "        self.ctrl_amplitude = tf.Variable(tf.zeros([no_of_steps, 1], dtype=tf.float64), dtype=tf.float64)  # control amplitude $\\Omega$\n",
        "\n",
        "        self.generators =  tf.stack([\n",
        "                                     tf.constant(self.sigma_x, dtype=tf.complex128),\n",
        "                                     \n",
        "                                     ])\n",
        "\n",
        "        self.contraction_array=[]\n",
        "        contraction_array_length = int(np.floor(np.log2(no_of_steps)))\n",
        "        temp_no_of_steps= no_of_steps\n",
        "\n",
        "        for i in range(contraction_array_length):\n",
        "          self.contraction_array.append(bool(np.mod(temp_no_of_steps, 2))) \n",
        "          temp_no_of_steps = np.floor(temp_no_of_steps/2)\n",
        "\n",
        "    def exponential(self):\n",
        "          regularize_amplitudes = 1/np.sqrt(2)*tf.math.tanh(self.ctrl_amplitude)\n",
        "          exponent = -1j*(tf.linalg.tensordot(tf.cast(regularize_amplitudes, dtype=tf.complex128), self.delta_t*(-0.5)*self.generators, 1))\n",
        "          return tf.linalg.expm(exponent)\n",
        "\n",
        "    def propagate(self):\n",
        "          step_exps=self.exponential()\n",
        "          for is_odd in self.contraction_array:\n",
        "            if is_odd:\n",
        "              odd_exp=step_exps[-1, :, :]\n",
        "              step_exps = tf.linalg.matmul(step_exps[1::2, :, :], step_exps[0:-1:2, :, :])\n",
        "              step_exps = tf.concat([step_exps[0:-1, :, :], [tf.linalg.matmul(odd_exp, step_exps[-1, :, :])]], 0)\n",
        "            else:\n",
        "              step_exps = tf.linalg.matmul(step_exps[1::2, :, :], step_exps[0::2, :, :])\n",
        "          return tf.squeeze(step_exps)\n",
        "\n",
        "    @tf.function\n",
        "    def infidelity(self):\n",
        "          propagator=self.propagate()\n",
        "          intermediate_state = tf.linalg.matvec(propagator, tf.transpose(self.initial_state))\n",
        "          overlap = tf.tensordot(tf.math.conj(intermediate_state), self.final_state, axes=1)\n",
        "          return 1-tf.math.real(tf.math.conj(overlap)*overlap)\n",
        "\n",
        "propagator = Propagator(2000, 2, 10**-7)\n",
        "\n",
        "optimizer = tf.keras.optimizers.Adam(0.01)\n",
        "\n",
        "propagator.ctrl_amplitude.assign(\n",
        "    tf.random.uniform([2000, 1], -1, 1, dtype=tf.float64)\n",
        ")\n",
        "\n",
        "propagator.infidelity()\n",
        "\n",
        "#@tf.function  \n",
        "def optimization_step():\n",
        "  with tf.GradientTape() as tape:\n",
        "    infidelity = propagator.infidelity()\n",
        "  gradients = tape.gradient(infidelity, [propagator.ctrl_amplitude])\n",
        "  optimizer.apply_gradients(zip(gradients, [propagator.ctrl_amplitude]))\n",
        "  return infidelity\n",
        "\n",
        "\n",
        "steps = range(100)\n",
        "for step in steps:\n",
        "  current_target = optimization_step()\n",
        "  print('step %2d: target=%2.5f' % (step, current_target))\n",
        "\n",
        "\n",
        "\n",
        "#final_pulse = propagator.ctrl_amplitude  \n",
        "\n",
        "\n",
        "\n"
      ],
      "execution_count": 3,
      "outputs": [
        {
          "output_type": "stream",
          "text": [
            "step  0: target=1.00000\n",
            "step  1: target=1.00000\n",
            "step  2: target=1.00000\n",
            "step  3: target=1.00000\n",
            "step  4: target=1.00000\n",
            "step  5: target=1.00000\n",
            "step  6: target=1.00000\n",
            "step  7: target=1.00000\n",
            "step  8: target=1.00000\n",
            "step  9: target=1.00000\n",
            "step 10: target=1.00000\n",
            "step 11: target=1.00000\n",
            "step 12: target=1.00000\n",
            "step 13: target=1.00000\n",
            "step 14: target=1.00000\n",
            "step 15: target=1.00000\n",
            "step 16: target=1.00000\n",
            "step 17: target=1.00000\n",
            "step 18: target=1.00000\n",
            "step 19: target=1.00000\n",
            "step 20: target=1.00000\n",
            "step 21: target=1.00000\n",
            "step 22: target=1.00000\n",
            "step 23: target=1.00000\n",
            "step 24: target=1.00000\n",
            "step 25: target=1.00000\n",
            "step 26: target=1.00000\n",
            "step 27: target=1.00000\n",
            "step 28: target=1.00000\n",
            "step 29: target=1.00000\n",
            "step 30: target=1.00000\n",
            "step 31: target=1.00000\n",
            "step 32: target=1.00000\n",
            "step 33: target=1.00000\n",
            "step 34: target=1.00000\n",
            "step 35: target=1.00000\n",
            "step 36: target=1.00000\n",
            "step 37: target=1.00000\n",
            "step 38: target=1.00000\n",
            "step 39: target=1.00000\n",
            "step 40: target=1.00000\n",
            "step 41: target=1.00000\n",
            "step 42: target=1.00000\n",
            "step 43: target=1.00000\n",
            "step 44: target=1.00000\n",
            "step 45: target=1.00000\n",
            "step 46: target=1.00000\n",
            "step 47: target=1.00000\n",
            "step 48: target=1.00000\n",
            "step 49: target=1.00000\n",
            "step 50: target=1.00000\n",
            "step 51: target=1.00000\n",
            "step 52: target=1.00000\n",
            "step 53: target=1.00000\n",
            "step 54: target=1.00000\n",
            "step 55: target=1.00000\n",
            "step 56: target=1.00000\n",
            "step 57: target=1.00000\n",
            "step 58: target=1.00000\n",
            "step 59: target=1.00000\n",
            "step 60: target=1.00000\n",
            "step 61: target=1.00000\n",
            "step 62: target=1.00000\n",
            "step 63: target=1.00000\n",
            "step 64: target=1.00000\n",
            "step 65: target=1.00000\n",
            "step 66: target=1.00000\n",
            "step 67: target=1.00000\n",
            "step 68: target=1.00000\n",
            "step 69: target=1.00000\n",
            "step 70: target=1.00000\n",
            "step 71: target=1.00000\n",
            "step 72: target=1.00000\n",
            "step 73: target=1.00000\n",
            "step 74: target=1.00000\n",
            "step 75: target=1.00000\n",
            "step 76: target=1.00000\n",
            "step 77: target=1.00000\n",
            "step 78: target=1.00000\n",
            "step 79: target=1.00000\n",
            "step 80: target=1.00000\n",
            "step 81: target=1.00000\n",
            "step 82: target=1.00000\n",
            "step 83: target=1.00000\n",
            "step 84: target=1.00000\n",
            "step 85: target=1.00000\n",
            "step 86: target=1.00000\n",
            "step 87: target=1.00000\n",
            "step 88: target=1.00000\n",
            "step 89: target=1.00000\n",
            "step 90: target=1.00000\n",
            "step 91: target=1.00000\n",
            "step 92: target=1.00000\n",
            "step 93: target=1.00000\n",
            "step 94: target=1.00000\n",
            "step 95: target=1.00000\n",
            "step 96: target=1.00000\n",
            "step 97: target=1.00000\n",
            "step 98: target=1.00000\n",
            "step 99: target=1.00000\n"
          ],
          "name": "stdout"
        }
      ]
    },
    {
      "cell_type": "code",
      "metadata": {
        "id": "9NA-Aj7OaB9O",
        "colab_type": "code",
        "colab": {}
      },
      "source": [
        ""
      ],
      "execution_count": 0,
      "outputs": []
    }
  ]
}